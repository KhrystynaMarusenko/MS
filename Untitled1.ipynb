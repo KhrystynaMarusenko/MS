{
  "nbformat": 4,
  "nbformat_minor": 0,
  "metadata": {
    "colab": {
      "name": "Untitled1.ipynb",
      "provenance": [],
      "authorship_tag": "ABX9TyOQX9cf35FXh3ncyxbhAP6S",
      "include_colab_link": true
    },
    "kernelspec": {
      "name": "python3",
      "display_name": "Python 3"
    }
  },
  "cells": [
    {
      "cell_type": "markdown",
      "metadata": {
        "id": "view-in-github",
        "colab_type": "text"
      },
      "source": [
        "<a href=\"https://colab.research.google.com/github/KhrystynaMarusenko/MS/blob/main/Untitled1.ipynb\" target=\"_parent\"><img src=\"https://colab.research.google.com/assets/colab-badge.svg\" alt=\"Open In Colab\"/></a>"
      ]
    },
    {
      "cell_type": "code",
      "metadata": {
        "id": "mE_vdKcsKQvq",
        "outputId": "579600cd-2a74-45a6-84e2-3fe04d41d140",
        "colab": {
          "base_uri": "https://localhost:8080/",
          "height": 1000
        }
      },
      "source": [
        "import pandas as pd\n",
        "from scipy import stats as st\n",
        "from matplotlib import pyplot as plt\n",
        "from random import*\n",
        "import math\n",
        "from collections import Counter\n",
        "import numpy as np\n",
        "\n",
        "import matplotlib as mpl\n",
        "import matplotlib.pyplot as plt\n",
        "import matplotlib.dates as mdates\n",
        "import datetime as dt\n",
        "import csv\n",
        "\n",
        "#Дискретна вибірка\n",
        "n=50;\n",
        "##start=135;\n",
        "##finish=153;\n",
        "##a=[135,144,153,135,136,136,137,137,137,137,138,138,138,139,139,140,140,140,\n",
        "##   140,141,141,142,142,142,143,143,143,143,144,144,144,144,144,145,145,146,\n",
        "##   146,147,147,148,149,149,150,151,151,152,153,144,136,139]\n",
        "start=10;\n",
        "finish=28;\n",
        "a=[13,14,15,13,13,13,13,13,21,13,18,18,18,13,19,14,10,14,\n",
        "   10,11,11,12,12,12,13,28,13,25,14,14,24,14,24,15,15,16,\n",
        "   16,17,14,14,19,19,15,15,15,15,13,14,16,19]\n",
        "\n",
        "a.sort()\n",
        "print(a,'\\n')\n",
        "\n",
        "freq_table=dict()\n",
        "freq_table=Counter(a)\n",
        "\n",
        "#Частотна таблиця\n",
        "freq_tablel=dict()\n",
        "for i in freq_table.keys():\n",
        "    freq_tablel[i]=[freq_table[i]]\n",
        "freq_table_df=pd.DataFrame(freq_tablel, index=[\"m:\"])\n",
        "print(freq_table_df)\n",
        "\n",
        "freq_tablel_2 = dict()\n",
        "for i in freq_table.keys():\n",
        "    freq_tablel_2[i]= float(freq_table[i]/n)\n",
        "freq_table_df=pd.DataFrame(freq_tablel_2, index=[\"w:\"])\n",
        "print(freq_table_df)\n",
        "\n",
        "x_axis=np.array(list(freq_table.keys()))\n",
        "y_axis=np.array(list(freq_table.values()))\n",
        "w_axis = []\n",
        "\n",
        "\n",
        "#Статистики\n",
        "print('об`єм:' +str(n))\n",
        "\n",
        "r = np.amax(a-np.amin(a))\n",
        "print('Розмах вибірки:'+str(r))\n",
        "\n",
        "z = np.multiply(x_axis,y_axis)\n",
        "ans = sum(z)\n",
        "x_mean=float(ans/n)\n",
        "print(\"Середнє арифметичне всієї вибірки:\"+str(x_mean))\n",
        "\n",
        "x_median=np.median(a)\n",
        "print(\"Медіана для всієї вибірки:\"+ str(x_median))\n",
        "\n",
        "mode_value=0;\n",
        "mode=[]\n",
        "for i in freq_table:\n",
        "    if mode_value<freq_table[i]:\n",
        "        mode_value=freq_table[i]\n",
        "for i in freq_table:\n",
        "    if mode_value==freq_table[i]:\n",
        "        mode.append(i)\n",
        "print(\"Мода для всієї вибірки: \"+str(mode))\n",
        "\n",
        "d = np.power(x_axis,2)\n",
        "d_sum=np.multiply(d,y_axis)\n",
        "dus=float(sum(d_sum)/n-pow(x_mean,2))\n",
        "print(\"Статистична дисперсія для всієї вибірки: \"+str(dus))\n",
        "\n",
        "ssv = float(math.sqrt(dus))\n",
        "print(\"Середнє статистичне відхилення для всієї вибірки: \"+str(ssv))\n",
        "\n",
        "v_dus = float(n*dus/(n-1))\n",
        "print(\"Виправлена статистична дисперсія для всієї вибірки: \"+str(v_dus))\n",
        "\n",
        "sl=abs(np.subtract(x_axis,x_mean))\n",
        "slv = 1/n*sum(np.multiply(sl,y_axis))\n",
        "print(\"Середнє лінійне відхилення для всієї вибірки: \"+str(slv))\n",
        "\n",
        "Vp = slv/x_mean*100\n",
        "print(\"Коефіцієнт варіації за середнім лінійним відхиленням: \"+str(Vp) +'%')\n",
        "\n",
        "Vs = ssv/x_mean*100\n",
        "print(\"Коефіцієнт варіації за середнім квадратичним відхиленням: \"+str(Vs) +'%')\n",
        "\n",
        "arr = [0,1,2,3,4]\n",
        "x_s=dict()\n",
        "ms = dict()\n",
        "Ms = dict()\n",
        "print(\"Початковий статистичний момент вибірки s-го порядку:\\n\")\n",
        "for i in arr:\n",
        "    \n",
        "    x_s= pow(x_axis,i)\n",
        "    ms = np.multiply(x_s,y_axis)    \n",
        "    Ms[i] = float(1/n*sum(ms))\n",
        "    print('M('+str(i)+'): '+str(Ms[i]))\n",
        "print('\\n')\n",
        "\n",
        "print(\"Центральний статистичний момент вибірки s-го порядку:\\n\")\n",
        "x_v =dict()\n",
        "x_xv = dict()\n",
        "mv = dict()\n",
        "Mv = dict()\n",
        "for i in arr:\n",
        "    x_xv = np.subtract(x_axis,x_mean)\n",
        "    x_v = pow(x_xv,i)\n",
        "    ##print(x_v,'\\n',y_axis,'\\n')\n",
        "    mv = np.multiply(x_v,y_axis)\n",
        "    ##print(sum(mv),'\\n')\n",
        "    Mv[i] = float(1/n*sum(mv))\n",
        "    print('M('+str(i)+'): '+str(Mv[i]))\n",
        "print('\\n')\n",
        "\n",
        "A = float(1/n*sum(np.multiply(pow(np.subtract(x_axis,x_mean),3),y_axis))/(pow(ssv,3)))\n",
        "print('Асиметрія: ', str(A))\n",
        "\n",
        "E = float(1/n*sum(np.multiply(pow(np.subtract(x_axis,x_mean),4),y_axis))/(pow(ssv,4)))-3\n",
        "print('Ексцес: ', str(E))\n",
        "\n",
        "\n",
        "####plt.hist(a,r,facecolor='b',alpha=0.75)\n",
        "####y_axis=[i for i in freq_table.values()]\n",
        "####for i in freq_table:\n",
        "####    plt.vlines(i[0],ymin=0,ymax=freq_table[i],linestyle='-',color='k')\n",
        "####    plt.vlines(i[1],ymin=0,ymax=freq_table[i],linestyle='-',color='k')\n",
        "####    plt.hlines(xmin=i[0],xmax=i[1], y=freq_table[i],color='k')\n",
        "####plt.show()\n",
        "\n",
        "#Полігон\n",
        "\n",
        "\n",
        "fig, axs = plt.subplots(2)\n",
        "fig.suptitle('Полігон')\n",
        "plt.figure(figsize=(10,10))\n",
        "for i in y_axis:\n",
        "    w_axis.append(float(i/n))\n",
        "s=[20*10 for n in range(len(x_axis))]\n",
        "axs[0].plot(x_axis,y_axis,'k')\n",
        "axs[1].plot(x_axis, w_axis,color='k')\n",
        "plt.show()\n",
        "\n",
        "#Емпірична функція розподілу\n",
        "def disturb_func(freq_dict):\n",
        "    value=0\n",
        "    answer_dict=dict()\n",
        "    for i in freq_dict.keys():\n",
        "        ##print(value,' ')\n",
        "        answer_dict[i]=value\n",
        "        value += int(freq_dict.get(i))/len(a)\n",
        "        \n",
        "    return answer_dict\n",
        "\n",
        "distr_function=disturb_func(freq_table)\n",
        "xstart=a[0]-2\n",
        "x_pos=[]\n",
        "y_pos=[]\n",
        "plt.figure(figsize=(10,10))\n",
        "s=[20*10 for n in range(len(distr_function))]\n",
        "for pos_x, pos_y in distr_function.items():\n",
        "    x_pos.append(pos_x)\n",
        "    y_pos.append(pos_y)    \n",
        "plt.suptitle('Емпірична функція розподілу')\n",
        "plt.plot(x_pos,y_pos,color='k')\n",
        "plt.hlines(xmin=xstart,xmax=xstart+2,y=0,color='k')\n",
        "plt.show()\n",
        "#Неперервна вибірка\n",
        "\n",
        "print(\"  \")\n",
        "print(\"  \")\n",
        "\n",
        "rv = math.floor(math.log2(n))\n",
        "dx=(max(a)-min(a))/r\n",
        "\n",
        "groups=[]\n",
        "b=a[0]\n",
        "\n",
        "for i in range(rv):\n",
        "    groups.append((float(format(b,'.4f')),float(format(b+dx,'.4f'))))\n",
        "    b+=dx\n",
        "print(groups,'\\n')\n",
        "\n",
        "freq_table=dict()\n",
        "\n",
        "for i in a:\n",
        "    for j in groups:\n",
        "        if j[0]<=i<j[1] and freq_table.get(j):\n",
        "            freq_table[j]+=1\n",
        "        elif j[0]<=i<j[1] and not freq_table.get(j):\n",
        "            freq_table[j]=1\n",
        "#freq_table[groups[r-1]]+=1\n",
        "freq_table\n",
        "\n",
        "\n",
        "\n",
        "#Частотна\n",
        "freq_tablel=dict()\n",
        "for i in freq_table.keys():\n",
        "    freq_tablel[i]=[freq_table[i]]\n",
        "freq_table_df=pd.DataFrame(freq_tablel, index=[\"m:\"])\n",
        "print(freq_table_df)\n",
        "print('\\n')\n",
        "#Відносна частотна\n",
        "freq_tablel_2 = dict()\n",
        "for i in freq_table.keys():\n",
        "    freq_tablel_2[i]= float(freq_table[i]/n)\n",
        "freq_table_df=pd.DataFrame(freq_tablel_2, index=[\"w:\"])\n",
        "print(freq_table_df)\n",
        "\n",
        "\n",
        "plt.hist(a,r,facecolor='b',alpha=0.75)\n",
        "y_axis=[i for i in freq_table.values()]\n",
        "for i in freq_table:\n",
        "    plt.vlines(i[0],ymin=0,ymax=freq_table[i],linestyle='-',color='k')\n",
        "    plt.vlines(i[1],ymin=0,ymax=freq_table[i],linestyle='-',color='k')\n",
        "    plt.hlines(xmin=i[0],xmax=i[1], y=freq_table[i],color='k')\n",
        "plt.show()\n",
        "\n",
        "\n",
        "\n"
      ],
      "execution_count": null,
      "outputs": [
        {
          "output_type": "stream",
          "text": [
            "[10, 10, 11, 11, 12, 12, 12, 13, 13, 13, 13, 13, 13, 13, 13, 13, 13, 13, 14, 14, 14, 14, 14, 14, 14, 14, 14, 15, 15, 15, 15, 15, 15, 15, 16, 16, 16, 17, 18, 18, 18, 19, 19, 19, 19, 21, 24, 24, 25, 28] \n",
            "\n",
            "    10  11  12  13  14  15  16  17  18  19  21  24  25  28\n",
            "m:   2   2   3  11   9   7   3   1   3   4   1   2   1   1\n",
            "      10    11    12    13    14    15  ...    18    19    21    24    25    28\n",
            "w:  0.04  0.04  0.06  0.22  0.18  0.14  ...  0.06  0.08  0.02  0.04  0.02  0.02\n",
            "\n",
            "[1 rows x 14 columns]\n",
            "об`єм:50\n",
            "Розмах вибірки:18\n",
            "Середнє арифметичне всієї вибірки:15.38\n",
            "Медіана для всієї вибірки:14.0\n",
            "Мода для всієї вибірки: [13]\n",
            "Статистична дисперсія для всієї вибірки: 14.395599999999973\n",
            "Середнє статистичне відхилення для всієї вибірки: 3.7941533970043926\n",
            "Виправлена статистична дисперсія для всієї вибірки: 14.689387755102013\n",
            "Середнє лінійне відхилення для всієї вибірки: 2.8368000000000007\n",
            "Коефіцієнт варіації за середнім лінійним відхиленням: 18.44473342002601%\n",
            "Коефіцієнт варіації за середнім квадратичним відхиленням: 24.66939789989852%\n",
            "Початковий статистичний момент вибірки s-го порядку:\n",
            "\n",
            "M(0): 1.0\n",
            "M(1): 15.38\n",
            "M(2): 250.94\n",
            "M(3): 4379.06\n",
            "M(4): 82108.7\n",
            "\n",
            "\n",
            "Центральний статистичний момент вибірки s-го порядку:\n",
            "\n",
            "M(0): 1.0\n",
            "M(1): -7.105427357601002e-16\n",
            "M(2): 14.3956\n",
            "M(3): 76.79414399999997\n",
            "M(4): 999.8797019199998\n",
            "\n",
            "\n",
            "Асиметрія:  1.4059939364353202\n",
            "Ексцес:  1.8248988218010274\n"
          ],
          "name": "stdout"
        },
        {
          "output_type": "display_data",
          "data": {
            "image/png": "[encoded data removed]",
            "text/plain": [
              "<Figure size 432x288 with 2 Axes>"
            ]
          },
          "metadata": {
            "tags": [],
            "needs_background": "light"
          }
        },
        {
          "output_type": "display_data",
          "data": {
            "text/plain": [
              "<Figure size 720x720 with 0 Axes>"
            ]
          },
          "metadata": {
            "tags": []
          }
        },
        {
          "output_type": "display_data",
          "data": {
            "image/png": "[encoded data removed]",
            "text/plain": [
              "<Figure size 720x720 with 1 Axes>"
            ]
          },
          "metadata": {
            "tags": [],
            "needs_background": "light"
          }
        },
        {
          "output_type": "stream",
          "text": [
            "  \n",
            "  \n",
            "[(10.0, 11.0), (11.0, 12.0), (12.0, 13.0), (13.0, 14.0), (14.0, 15.0)] \n",
            "\n",
            "   10.0 11.0 12.0 13.0 14.0\n",
            "   11.0 12.0 13.0 14.0 15.0\n",
            "m:    2    2    3   11    9\n",
            "\n",
            "\n",
            "    10.0  11.0  12.0  13.0  14.0\n",
            "    11.0  12.0  13.0  14.0  15.0\n",
            "w:  0.04  0.04  0.06  0.22  0.18\n"
          ],
          "name": "stdout"
        },
        {
          "output_type": "display_data",
          "data": {
            "image/png": "[encoded data removed]",
            "text/plain": [
              "<Figure size 432x288 with 1 Axes>"
            ]
          },
          "metadata": {
            "tags": [],
            "needs_background": "light"
          }
        }
      ]
    },
    {
      "cell_type": "code",
      "metadata": {
        "id": "WrF5aRTxoj0q"
      },
      "source": [
        ""
      ],
      "execution_count": null,
      "outputs": []
    },
    {
      "cell_type": "code",
      "metadata": {
        "id": "GxhqI5i5JqDX",
        "outputId": "8a4f5459-d8f6-4cc6-a9cd-894671626ab1",
        "colab": {
          "base_uri": "https://localhost:8080/",
          "height": 406
        }
      },
      "source": [
        "import pandas as pd\n",
        "from scipy import stats as st\n",
        "from matplotlib import pyplot as plt\n",
        "from random import*\n",
        "import math\n",
        "from collections import Counter\n",
        "import numpy as np\n",
        "\n",
        "import matplotlib as mpl\n",
        "import matplotlib.pyplot as plt\n",
        "import matplotlib.dates as mdates\n",
        "import datetime as dt\n",
        "import csv\n",
        "\n",
        "start=10;\n",
        "finish=28;\n",
        "a=[13,14,15,13,13,13,13,13,21,13,18,18,18,13,19,14,10,14,\n",
        "   10,11,11,12,12,12,13,28,13,25,14,14,24,14,24,15,15,16,\n",
        "   16,17,14,14,19,19,15,15,15,15,13,14,16,19]\n",
        "\n",
        "a.sort()\n",
        "print(a,'\\n')\n",
        "\n",
        "freq_table=dict()\n",
        "freq_table=Counter(a)\n",
        "\n",
        "x_axis=np.array(list(freq_table.keys()))\n",
        "y_axis=np.array(list(freq_table.values()))\n",
        "w_axis = []\n",
        "\n",
        "data_names = x_axis\n",
        "data_values = y_axis\n",
        "\n",
        "dpi = 80\n",
        "fig = plt.figure(dpi = dpi, figsize = (512 / dpi, 384 / dpi) )\n",
        "mpl.rcParams.update({'font.size': 10})\n",
        "\n",
        "plt.title('Діаграма частот')\n",
        "\n",
        "ax = plt.axes()\n",
        "ax.yaxis.grid(True, zorder = 1)\n",
        "\n",
        "xs = range(len(data_names))\n",
        "\n",
        "\n",
        "plt.bar([x + 0.3 for x in xs], data_values,\n",
        "        width = 0.1, color = 'blue', alpha = 1,\n",
        "        zorder = 2)\n",
        "plt.xticks(xs, data_names)\n",
        "\n",
        "fig.autofmt_xdate(rotation = 25)\n"
      ],
      "execution_count": null,
      "outputs": [
        {
          "output_type": "stream",
          "text": [
            "[10, 10, 11, 11, 12, 12, 12, 13, 13, 13, 13, 13, 13, 13, 13, 13, 13, 13, 14, 14, 14, 14, 14, 14, 14, 14, 14, 15, 15, 15, 15, 15, 15, 15, 16, 16, 16, 17, 18, 18, 18, 19, 19, 19, 19, 21, 24, 24, 25, 28] \n",
            "\n"
          ],
          "name": "stdout"
        },
        {
          "output_type": "stream",
          "text": [
            "/usr/local/lib/python3.6/dist-packages/ipykernel_launcher.py:40: MatplotlibDeprecationWarning: Adding an axes using the same arguments as a previous axes currently reuses the earlier instance.  In a future version, a new instance will always be created and returned.  Meanwhile, this warning can be suppressed, and the future behavior ensured, by passing a unique label to each axes instance.\n"
          ],
          "name": "stderr"
        },
        {
          "output_type": "display_data",
          "data": {
            "image/png": "[encoded data removed]",
            "text/plain": [
              "<Figure size 512x384 with 1 Axes>"
            ]
          },
          "metadata": {
            "tags": [],
            "needs_background": "light"
          }
        }
      ]
    },
    {
      "cell_type": "code",
      "metadata": {
        "id": "TQldP-Huols3",
        "outputId": "566a85be-3093-443d-9713-9ddfcf645814",
        "colab": {
          "base_uri": "https://localhost:8080/",
          "height": 744
        }
      },
      "source": [
        "# library\n",
        "import matplotlib.pyplot as plt\n",
        "import numpy as np\n",
        " \n",
        "import pandas as pd\n",
        "from scipy import stats as st\n",
        "from matplotlib import pyplot as plt\n",
        "from random import*\n",
        "import math\n",
        "from collections import Counter\n",
        "import numpy as np\n",
        "\n",
        "#Дискретна вибірка\n",
        "n=50;\n",
        "##start=135;\n",
        "##finish=153;\n",
        "##a=[135,144,153,135,136,136,137,137,137,137,138,138,138,139,139,140,140,140,\n",
        "##   140,141,141,142,142,142,143,143,143,143,144,144,144,144,144,145,145,146,\n",
        "##   146,147,147,148,149,149,150,151,151,152,153,144,136,139]\n",
        "start=10;\n",
        "finish=28;\n",
        "a=[13,14,15,13,13,13,13,13,21,13,18,18,18,13,19,14,10,14,\n",
        "   10,11,11,12,12,12,13,28,13,25,14,14,24,14,24,15,15,16,\n",
        "   16,17,14,14,19,19,15,15,15,15,13,14,16,19]\n",
        "\n",
        "a.sort()\n",
        "print(a,'\\n')\n",
        "\n",
        "freq_table=dict()\n",
        "freq_table=Counter(a)\n",
        "\n",
        "#Частотна таблиця\n",
        "freq_tablel=dict()\n",
        "for i in freq_table.keys():\n",
        "    freq_tablel[i]=[freq_table[i]]\n",
        "freq_table_df=pd.DataFrame(freq_tablel, index=[\"m:\"])\n",
        "print(freq_table_df)\n",
        "\n",
        "\n",
        "x_axis=np.array(list(freq_table.keys()))\n",
        "y_axis=np.array(list(freq_table.values()))\n",
        "w_axis = []\n",
        "\n",
        "\n",
        "# create data\n",
        "x=x_axis\n",
        "values=y_axis\n",
        " \n",
        "# stem function: first way\n",
        "plt.stem(x, y_axis)\n",
        "plt.ylim(0, values)\n",
        "#plt.show()\n",
        " \n",
        "# stem function: If no X provided, a sequence of numbers is created by python:\n",
        "plt.stem(values)\n",
        " #plt.show()\n",
        " \n",
        "# stem function: second way\n",
        "(markerline, stemlines, baseline) = plt.stem(x, values)\n",
        "plt.setp(baseline, visible=False)\n",
        "plt.show()\n"
      ],
      "execution_count": null,
      "outputs": [
        {
          "output_type": "stream",
          "text": [
            "[10, 10, 11, 11, 12, 12, 12, 13, 13, 13, 13, 13, 13, 13, 13, 13, 13, 13, 14, 14, 14, 14, 14, 14, 14, 14, 14, 15, 15, 15, 15, 15, 15, 15, 16, 16, 16, 17, 18, 18, 18, 19, 19, 19, 19, 21, 24, 24, 25, 28] \n",
            "\n",
            "    10  11  12  13  14  15  16  17  18  19  21  24  25  28\n",
            "m:   2   2   3  11   9   7   3   1   3   4   1   2   1   1\n"
          ],
          "name": "stdout"
        },
        {
          "output_type": "stream",
          "text": [
            "/usr/local/lib/python3.6/dist-packages/ipykernel_launcher.py:50: UserWarning: In Matplotlib 3.3 individual lines on a stem plot will be added as a LineCollection instead of individual lines. This significantly improves the performance of a stem plot. To remove this warning and switch to the new behaviour, set the \"use_line_collection\" keyword argument to True.\n"
          ],
          "name": "stderr"
        },
        {
          "output_type": "error",
          "ename": "ValueError",
          "evalue": "ignored",
          "traceback": [
            "\u001b[0;31m---------------------------------------------------------------------------\u001b[0m",
            "\u001b[0;31mValueError\u001b[0m                                Traceback (most recent call last)",
            "\u001b[0;32m<ipython-input-16-5667292f6abe>\u001b[0m in \u001b[0;36m<module>\u001b[0;34m()\u001b[0m\n\u001b[1;32m     49\u001b[0m \u001b[0;31m# stem function: first way\u001b[0m\u001b[0;34m\u001b[0m\u001b[0;34m\u001b[0m\u001b[0;34m\u001b[0m\u001b[0m\n\u001b[1;32m     50\u001b[0m \u001b[0mplt\u001b[0m\u001b[0;34m.\u001b[0m\u001b[0mstem\u001b[0m\u001b[0;34m(\u001b[0m\u001b[0mx\u001b[0m\u001b[0;34m,\u001b[0m \u001b[0my_axis\u001b[0m\u001b[0;34m)\u001b[0m\u001b[0;34m\u001b[0m\u001b[0;34m\u001b[0m\u001b[0m\n\u001b[0;32m---> 51\u001b[0;31m \u001b[0mplt\u001b[0m\u001b[0;34m.\u001b[0m\u001b[0mylim\u001b[0m\u001b[0;34m(\u001b[0m\u001b[0;36m0\u001b[0m\u001b[0;34m,\u001b[0m \u001b[0mvalues\u001b[0m\u001b[0;34m)\u001b[0m\u001b[0;34m\u001b[0m\u001b[0;34m\u001b[0m\u001b[0m\n\u001b[0m\u001b[1;32m     52\u001b[0m \u001b[0;31m#plt.show()\u001b[0m\u001b[0;34m\u001b[0m\u001b[0;34m\u001b[0m\u001b[0;34m\u001b[0m\u001b[0m\n\u001b[1;32m     53\u001b[0m \u001b[0;34m\u001b[0m\u001b[0m\n",
            "\u001b[0;32m/usr/local/lib/python3.6/dist-packages/matplotlib/pyplot.py\u001b[0m in \u001b[0;36mylim\u001b[0;34m(*args, **kwargs)\u001b[0m\n\u001b[1;32m   1431\u001b[0m     \u001b[0;32mif\u001b[0m \u001b[0;32mnot\u001b[0m \u001b[0margs\u001b[0m \u001b[0;32mand\u001b[0m \u001b[0;32mnot\u001b[0m \u001b[0mkwargs\u001b[0m\u001b[0;34m:\u001b[0m\u001b[0;34m\u001b[0m\u001b[0;34m\u001b[0m\u001b[0m\n\u001b[1;32m   1432\u001b[0m         \u001b[0;32mreturn\u001b[0m \u001b[0max\u001b[0m\u001b[0;34m.\u001b[0m\u001b[0mget_ylim\u001b[0m\u001b[0;34m(\u001b[0m\u001b[0;34m)\u001b[0m\u001b[0;34m\u001b[0m\u001b[0;34m\u001b[0m\u001b[0m\n\u001b[0;32m-> 1433\u001b[0;31m     \u001b[0mret\u001b[0m \u001b[0;34m=\u001b[0m \u001b[0max\u001b[0m\u001b[0;34m.\u001b[0m\u001b[0mset_ylim\u001b[0m\u001b[0;34m(\u001b[0m\u001b[0;34m*\u001b[0m\u001b[0margs\u001b[0m\u001b[0;34m,\u001b[0m \u001b[0;34m**\u001b[0m\u001b[0mkwargs\u001b[0m\u001b[0;34m)\u001b[0m\u001b[0;34m\u001b[0m\u001b[0;34m\u001b[0m\u001b[0m\n\u001b[0m\u001b[1;32m   1434\u001b[0m     \u001b[0;32mreturn\u001b[0m \u001b[0mret\u001b[0m\u001b[0;34m\u001b[0m\u001b[0;34m\u001b[0m\u001b[0m\n\u001b[1;32m   1435\u001b[0m \u001b[0;34m\u001b[0m\u001b[0m\n",
            "\u001b[0;32m/usr/local/lib/python3.6/dist-packages/matplotlib/axes/_base.py\u001b[0m in \u001b[0;36mset_ylim\u001b[0;34m(self, bottom, top, emit, auto, ymin, ymax)\u001b[0m\n\u001b[1;32m   3603\u001b[0m                     'Invalid limit will be ignored.')\n\u001b[1;32m   3604\u001b[0m                 \u001b[0mtop\u001b[0m \u001b[0;34m=\u001b[0m \u001b[0mold_top\u001b[0m\u001b[0;34m\u001b[0m\u001b[0;34m\u001b[0m\u001b[0m\n\u001b[0;32m-> 3605\u001b[0;31m         \u001b[0;32mif\u001b[0m \u001b[0mbottom\u001b[0m \u001b[0;34m==\u001b[0m \u001b[0mtop\u001b[0m\u001b[0;34m:\u001b[0m\u001b[0;34m\u001b[0m\u001b[0;34m\u001b[0m\u001b[0m\n\u001b[0m\u001b[1;32m   3606\u001b[0m             cbook._warn_external(\n\u001b[1;32m   3607\u001b[0m                 \u001b[0;34mf\"Attempting to set identical bottom == top == {bottom} \"\u001b[0m\u001b[0;34m\u001b[0m\u001b[0;34m\u001b[0m\u001b[0m\n",
            "\u001b[0;31mValueError\u001b[0m: The truth value of an array with more than one element is ambiguous. Use a.any() or a.all()"
          ]
        },
        {
          "output_type": "display_data",
          "data": {
            "image/png": "[encoded data removed]",
            "text/plain": [
              "<Figure size 432x288 with 1 Axes>"
            ]
          },
          "metadata": {
            "tags": [],
            "needs_background": "light"
          }
        }
      ]
    },
    {
      "cell_type": "code",
      "metadata": {
        "id": "DxhoPgP1qkjW",
        "outputId": "0edeb0a6-8e15-445b-89ae-21577d23bb35",
        "colab": {
          "base_uri": "https://localhost:8080/"
        }
      },
      "source": [
        ""
      ],
      "execution_count": null,
      "outputs": [
        {
          "output_type": "stream",
          "text": [
            "[0.54113244 0.65058441 0.42671719 0.55967421 0.28210963 0.96782029\n",
            " 0.74316201 0.0149749  0.3199319  0.10493663 0.86954806 0.77542517\n",
            " 0.04462567 0.74737801 0.91590732 0.73871713 0.94516035 0.77118084\n",
            " 0.49475773 0.22600919 0.61215893 0.27053549 0.03779854 0.85936343\n",
            " 0.68291525 0.68590186 0.04297933 0.45144677 0.66464264 0.40300684\n",
            " 0.97540844 0.5427069  0.22965502 0.01477877 0.0816834  0.00938595\n",
            " 0.04901638 0.6058488  0.79012948 0.48585931]\n"
          ],
          "name": "stdout"
        }
      ]
    },
    {
      "cell_type": "code",
      "metadata": {
        "id": "oDGMD0gsczwR",
        "outputId": "73541a22-001e-405d-cbba-f27849e9c325",
        "colab": {
          "base_uri": "https://localhost:8080/",
          "height": 483
        }
      },
      "source": [
        "import pandas as pd\n",
        "from scipy import stats as st\n",
        "from matplotlib import pyplot as plt\n",
        "from random import*\n",
        "import math\n",
        "from collections import Counter\n",
        "import numpy as np\n",
        "import matplotlib as mpl\n",
        "import matplotlib.pyplot as plt\n",
        "import matplotlib.dates as mdates\n",
        "import datetime as dt\n",
        "import csv\n",
        "\n",
        "#Дискретна вибірка\n",
        "n = 50\n",
        "start=10;\n",
        "finish=28;\n",
        "a=[13,14,15,13,13,13,13,13,21,13,18,18,18,13,19,14,10,14,\n",
        "   10,11,11,12,12,12,13,28,13,25,14,14,24,14,24,15,15,16,\n",
        "   16,17,14,14,19,19,15,15,15,15,13,14,16,19]\n",
        "\n",
        "a.sort()\n",
        "print(a,'\\n')\n",
        "\n",
        "freq_table=dict()\n",
        "freq_table=Counter(a)\n",
        "\n",
        "\n",
        "#Неперервна вибірка\n",
        "\n",
        "print(\"  \")\n",
        "print(\"  \")\n",
        "\n",
        "dx = 3\n",
        "groups=[]\n",
        "b=a[0]\n",
        "H = 0\n",
        "\n",
        "i = start\n",
        "while i < finish:\n",
        "    groups.append((float(format(b,'.4f')),float(format(b+dx,'.4f'))))\n",
        "    i = i + 1\n",
        "    b+=dx\n",
        "    H =+ 1\n",
        "    if b >= finish:\n",
        "      break\n",
        "print(groups,'\\n')\n",
        "freq_table=dict()\n",
        "\n",
        "for i in a:\n",
        "    for j in groups:\n",
        "        if j[0]<=i<j[1] and freq_table.get(j) :\n",
        "            freq_table[j]+=1\n",
        "        elif j[0]<=i<j[1] and not freq_table.get(j):\n",
        "            freq_table[j]=1\n",
        "        elif i == j[1] and i == finish:\n",
        "            freq_table[j]+=1\n",
        "#freq_table[groups[r-1]]+=1\n",
        "\n",
        "freq_table\n",
        "\n",
        "\n",
        "#Частотна\n",
        "\n",
        "freq_tablel=dict()\n",
        "for i in freq_table.keys():\n",
        "    freq_tablel[i]=[freq_table[i]]\n",
        "freq_table_df=pd.DataFrame(freq_tablel, index=[\"m:\"])\n",
        "print(freq_table_df)\n",
        "print('\\n')\n",
        "\n",
        "def disturb_func(freq_table):\n",
        "    value=0\n",
        "    answer_dict=dict()\n",
        "    for i in freq_table.keys():\n",
        "        ##print(value,' ')\n",
        "        answer_dict[i]=value\n",
        "        value += int(freq_table[i])/n\n",
        "        \n",
        "    return answer_dict\n",
        "\n",
        "distr_function=disturb_func(freq_table)\n",
        "#print(distr_function,'\\n')\n",
        "distr_function\n",
        "\n",
        "x_data=[]\n",
        "for pos_x in groups:\n",
        "    x_data.append(pos_x)\n",
        "y_data=[]\n",
        "for pos_y in distr_function.values():\n",
        "    y_data.append(pos_y) \n",
        "\n",
        "\n",
        "def lineplot(x_data, y_data):\n",
        "    # Create the plot object\n",
        "    _, ax = plt.subplots()\n",
        "\n",
        "    # Plot the best fit line, set the linewidth (lw), color and\n",
        "    # transparency (alpha) of the line\n",
        "    ax.plot(x_data, y_data, lw = 2, color = '#539caf', alpha = 1)\n",
        "\n",
        "\n",
        "\n",
        "lineplot(x_data, y_data)\n"
      ],
      "execution_count": 10,
      "outputs": [
        {
          "output_type": "stream",
          "text": [
            "[10, 10, 11, 11, 12, 12, 12, 13, 13, 13, 13, 13, 13, 13, 13, 13, 13, 13, 14, 14, 14, 14, 14, 14, 14, 14, 14, 15, 15, 15, 15, 15, 15, 15, 16, 16, 16, 17, 18, 18, 18, 19, 19, 19, 19, 21, 24, 24, 25, 28] \n",
            "\n",
            "  \n",
            "  \n",
            "[(10.0, 13.0), (13.0, 16.0), (16.0, 19.0), (19.0, 22.0), (22.0, 25.0), (25.0, 28.0)] \n",
            "\n",
            "   10.0 13.0 16.0 19.0 22.0 25.0\n",
            "   13.0 16.0 19.0 22.0 25.0 28.0\n",
            "m:    7   27    7    5    2    2\n",
            "\n",
            "\n"
          ],
          "name": "stdout"
        },
        {
          "output_type": "display_data",
          "data": {
            "image/png": "[encoded data removed]",
            "text/plain": [
              "<Figure size 432x288 with 1 Axes>"
            ]
          },
          "metadata": {
            "tags": [],
            "needs_background": "light"
          }
        }
      ]
    },
    {
      "cell_type": "code",
      "metadata": {
        "id": "xRSID67BgfuF"
      },
      "source": [
        ""
      ],
      "execution_count": null,
      "outputs": []
    }
  ]
}